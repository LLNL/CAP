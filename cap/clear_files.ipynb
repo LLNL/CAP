{
 "cells": [
  {
   "cell_type": "code",
   "execution_count": 12,
   "metadata": {},
   "outputs": [],
   "source": [
    "# Clears out files from previous cap executions\n",
    "import os\n",
    "import shutil\n",
    "\n",
    "cap_path = os.environ['CAP_DIR']\n",
    "usr_path = os.environ['HOME']\n",
    "\n",
    "out_path = os.path.join(cap_path, 'output')\n",
    "atomic_path = os.path.join(cap_path, 'atomic_data')\n",
    "log_path = os.path.join(cap_path, 'logs')\n",
    "slurm_path = os.path.join(usr_path, 'BinaryDataset/cap/slurm_logs/')\n",
    "temp_path = os.path.join(cap_path, 'temp')\n",
    "pre_log_path = cap_path\n",
    "core_paths = [\n",
    "    os.path.join(usr_path, 'BinaryDataset/cap'),\n",
    "    usr_path\n",
    "]\n",
    "\n",
    "for p in [out_path, log_path, slurm_path, temp_path, atomic_path]:\n",
    "    if not os.path.exists(p):\n",
    "        continue\n",
    "    for f in [os.path.join(p, f) for f in os.listdir(p)]:\n",
    "        if not (p == atomic_path and (os.path.basename(f).startswith('precomputed_tokens') or os.path.basename(f).startswith('_precomputed_tokens'))):\n",
    "            if os.path.isdir(f):\n",
    "                shutil.rmtree(f)\n",
    "            else:\n",
    "                os.remove(f)\n",
    "\n",
    "# Also remove any pre_logs\n",
    "for f in os.listdir(pre_log_path):\n",
    "    if f.startswith('pre_log_') and f.endswith('.log'):\n",
    "        os.remove(os.path.join(pre_log_path, f))\n",
    "\n",
    "# Also remove all those core dumps\n",
    "for cp in core_paths:\n",
    "    for f in os.listdir(cp):\n",
    "        if f.endswith('.core'):\n",
    "            os.remove(os.path.join(cp, f))"
   ]
  },
  {
   "cell_type": "code",
   "execution_count": null,
   "metadata": {},
   "outputs": [],
   "source": []
  }
 ],
 "metadata": {
  "kernelspec": {
   "display_name": "venv-quartz",
   "language": "python",
   "name": "python3"
  },
  "language_info": {
   "codemirror_mode": {
    "name": "ipython",
    "version": 3
   },
   "file_extension": ".py",
   "mimetype": "text/x-python",
   "name": "python",
   "nbconvert_exporter": "python",
   "pygments_lexer": "ipython3",
   "version": "3.9.12"
  },
  "orig_nbformat": 4,
  "vscode": {
   "interpreter": {
    "hash": "13d662ce649d7a410804fd00494b72f61d3a2be8a1ce1f3e06f0e4592c70a7f1"
   }
  }
 },
 "nbformat": 4,
 "nbformat_minor": 2
}
